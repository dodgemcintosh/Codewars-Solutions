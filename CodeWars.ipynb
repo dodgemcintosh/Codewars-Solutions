{
 "cells": [
  {
   "cell_type": "markdown",
   "metadata": {},
   "source": [
    "### Parity Outlier\n",
    "You are given an array (which will have a length of at least 3, but could be very large) containing integers. The array is either entirely comprised of odd integers or entirely comprised of even integers except for a single integer N. Write a method that takes the array as an argument and returns this \"outlier\" N."
   ]
  },
  {
   "cell_type": "code",
   "execution_count": 25,
   "metadata": {},
   "outputs": [
    {
     "name": "stdout",
     "output_type": "stream",
     "text": [
      "11\n",
      "160\n"
     ]
    }
   ],
   "source": [
    "mostly_evens = [2, 4, 0, 100, 4, 11, 2602, 36]\n",
    "mostly_odds = [160, 3, 1719, 19, 11, 13, -21]\n",
    "\n",
    "def find_outlier(integers):\n",
    "    if integers[0] % 2 != integers[1] % 2:\n",
    "        return integers[0] if integers[2] % 2 == integers[1] % 2 else integers[1]\n",
    "    for i in integers:\n",
    "        if i % 2 != integers[0] % 2:\n",
    "            return i\n",
    "        \n",
    "print(find_outlier(mostly_evens))\n",
    "print(find_outlier(mostly_odds))\n",
    "\n",
    "# If the first two elements have different parity, check which element is wrong based on third \n",
    "# (if the second and the third have the same parity, the first is the wrong one, otherwise - \n",
    "# the second is the wrong one)\n",
    "# If the first two elements have the same parity, that means that parity of the \n",
    "# first (and the second) element is the correct parity for list. \n",
    "# Thus, the element with different parity is what we are looking for."
   ]
  },
  {
   "cell_type": "markdown",
   "metadata": {},
   "source": [
    "### Complimentary DNA\n",
    "\n",
    "Deoxyribonucleic acid (DNA) is a chemical found in the nucleus of cells and carries the \"instructions\" for the development and functioning of living organisms.\n",
    "\n",
    "If you want to know more http://en.wikipedia.org/wiki/DNA\n",
    "\n",
    "In DNA strings, symbols \"A\" and \"T\" are complements of each other, as \"C\" and \"G\". You have function with one side of the DNA (string, except for Haskell); you need to get the other complementary side. DNA strand is never empty or there is no DNA at all (again, except for Haskell)."
   ]
  },
  {
   "cell_type": "code",
   "execution_count": 15,
   "metadata": {},
   "outputs": [
    {
     "name": "stdout",
     "output_type": "stream",
     "text": [
      "TAACG\n",
      "CATA\n"
     ]
    }
   ],
   "source": [
    "DNA_strand1 = \"ATTGC\" # return \"TAACG\"\n",
    "DNA_strand2 = \"GTAT\" # return \"CATA\"\n",
    "\n",
    "def DNA_strand(dna):\n",
    "    comp_dict = {\n",
    "        'A': 'T',\n",
    "        'T': 'A',\n",
    "        'G': 'C',\n",
    "        'C': 'G'\n",
    "    }\n",
    "    return ''.join([comp_dict[x] for x in dna])\n",
    "    \n",
    "print(DNA_strand(DNA_strand1))\n",
    "print(DNA_strand(DNA_strand2))"
   ]
  },
  {
   "cell_type": "code",
   "execution_count": 11,
   "metadata": {},
   "outputs": [
    {
     "name": "stdout",
     "output_type": "stream",
     "text": [
      "A\n",
      "T\n",
      "T\n",
      "G\n",
      "C\n"
     ]
    }
   ],
   "source": [
    "for x in DNA_strand1:\n",
    "    print(x)"
   ]
  },
  {
   "cell_type": "markdown",
   "metadata": {},
   "source": [
    "### Is Prime?\n",
    "\n",
    "Define a function isPrime/is_prime() that takes one integer argument and returns true/True or false/False depending on if the integer is a prime.\n",
    "\n",
    "Assumptions:\n",
    "- You can assume you will be given an integer input.\n",
    "- You can not assume that the integer will be only positive. You may be given negative numbers as well (or 0)."
   ]
  },
  {
   "cell_type": "code",
   "execution_count": 62,
   "metadata": {},
   "outputs": [
    {
     "data": {
      "text/plain": [
       "False"
      ]
     },
     "execution_count": 62,
     "metadata": {},
     "output_type": "execute_result"
    }
   ],
   "source": [
    "def is_prime(num):\n",
    "    new = abs(int(num))\n",
    "    \n",
    "    if new < 2:\n",
    "        return False\n",
    "    \n",
    "    if new == 2:\n",
    "        return True\n",
    "    \n",
    "    if not new & 1: \n",
    "        return False\n",
    "    \n",
    "    for x in range(3, int(new**0.5) + 1, 2):\n",
    "            if new % x == 0:\n",
    "                return False\n",
    "    return True\n",
    "\n",
    "is_prime(0)"
   ]
  },
  {
   "cell_type": "code",
   "execution_count": null,
   "metadata": {},
   "outputs": [],
   "source": []
  }
 ],
 "metadata": {
  "kernelspec": {
   "display_name": "Python 3",
   "language": "python",
   "name": "python3"
  },
  "language_info": {
   "codemirror_mode": {
    "name": "ipython",
    "version": 3
   },
   "file_extension": ".py",
   "mimetype": "text/x-python",
   "name": "python",
   "nbconvert_exporter": "python",
   "pygments_lexer": "ipython3",
   "version": "3.6.3"
  }
 },
 "nbformat": 4,
 "nbformat_minor": 2
}
