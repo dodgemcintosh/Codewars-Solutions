{
 "cells": [
  {
   "cell_type": "markdown",
   "metadata": {},
   "source": [
    "<h1><center> || Codewars Solutions || </center></h1>"
   ]
  },
  {
   "cell_type": "markdown",
   "metadata": {},
   "source": [
    "### Parity Outlier\n",
    "You are given an array (which will have a length of at least 3, but could be very large) containing integers. The array is either entirely comprised of odd integers or entirely comprised of even integers except for a single integer N. Write a method that takes the array as an argument and returns this \"outlier\" N."
   ]
  },
  {
   "cell_type": "code",
   "execution_count": 25,
   "metadata": {},
   "outputs": [
    {
     "name": "stdout",
     "output_type": "stream",
     "text": [
      "11\n",
      "160\n"
     ]
    }
   ],
   "source": [
    "mostly_evens = [2, 4, 0, 100, 4, 11, 2602, 36]\n",
    "mostly_odds = [160, 3, 1719, 19, 11, 13, -21]\n",
    "\n",
    "def find_outlier(integers):\n",
    "    if integers[0] % 2 != integers[1] % 2:\n",
    "        return integers[0] if integers[2] % 2 == integers[1] % 2 else integers[1]\n",
    "    for i in integers:\n",
    "        if i % 2 != integers[0] % 2:\n",
    "            return i\n",
    "        \n",
    "print(find_outlier(mostly_evens))\n",
    "print(find_outlier(mostly_odds))\n",
    "\n",
    "# If the first two elements have different parity, check which element is wrong based on third \n",
    "# (if the second and the third have the same parity, the first is the wrong one, otherwise - \n",
    "# the second is the wrong one)\n",
    "# If the first two elements have the same parity, that means that parity of the \n",
    "# first (and the second) element is the correct parity for list. \n",
    "# Thus, the element with different parity is what we are looking for."
   ]
  },
  {
   "cell_type": "markdown",
   "metadata": {},
   "source": [
    "### Complimentary DNA\n",
    "\n",
    "Deoxyribonucleic acid (DNA) is a chemical found in the nucleus of cells and carries the \"instructions\" for the development and functioning of living organisms.\n",
    "\n",
    "If you want to know more http://en.wikipedia.org/wiki/DNA\n",
    "\n",
    "In DNA strings, symbols \"A\" and \"T\" are complements of each other, as \"C\" and \"G\". You have function with one side of the DNA (string, except for Haskell); you need to get the other complementary side. DNA strand is never empty or there is no DNA at all (again, except for Haskell)."
   ]
  },
  {
   "cell_type": "code",
   "execution_count": 15,
   "metadata": {},
   "outputs": [
    {
     "name": "stdout",
     "output_type": "stream",
     "text": [
      "TAACG\n",
      "CATA\n"
     ]
    }
   ],
   "source": [
    "DNA_strand1 = \"ATTGC\" # return \"TAACG\"\n",
    "DNA_strand2 = \"GTAT\" # return \"CATA\"\n",
    "\n",
    "def DNA_strand(dna):\n",
    "    \n",
    "    # Making a complimentary dictionary to map corresponding values to\n",
    "    comp_dict = {\n",
    "        'A': 'T',\n",
    "        'T': 'A',\n",
    "        'G': 'C',\n",
    "        'C': 'G'\n",
    "    }\n",
    "    \n",
    "    # Switching each value passed in to the corresponding one from the dictionary\n",
    "    return ''.join([comp_dict[x] for x in dna])\n",
    "    \n",
    "print(DNA_strand(DNA_strand1))\n",
    "print(DNA_strand(DNA_strand2))"
   ]
  },
  {
   "cell_type": "markdown",
   "metadata": {},
   "source": [
    "### Is Prime?\n",
    "\n",
    "Define a function isPrime/is_prime() that takes one integer argument and returns true/True or false/False depending on if the integer is a prime.\n",
    "\n",
    "Assumptions:\n",
    "- You can assume you will be given an integer input.\n",
    "- You can not assume that the integer will be only positive. You may be given negative numbers as well (or 0)."
   ]
  },
  {
   "cell_type": "code",
   "execution_count": 3,
   "metadata": {},
   "outputs": [
    {
     "data": {
      "text/plain": [
       "True"
      ]
     },
     "execution_count": 3,
     "metadata": {},
     "output_type": "execute_result"
    }
   ],
   "source": [
    "def is_prime(num):\n",
    "    \n",
    "    # Making sure we can make this all work with a positive or negative number\n",
    "    new = abs(int(num))\n",
    "    \n",
    "    # 0 and 1 are not prime numbers\n",
    "    if new < 2:\n",
    "        return False\n",
    "    \n",
    "    # 2 is a unique prime number\n",
    "    if new == 2:\n",
    "        return True\n",
    "    \n",
    "    if not new & 1: \n",
    "        return False\n",
    "    \n",
    "    for x in range(3, int(new**0.5) + 1, 2):\n",
    "            if new % x == 0:\n",
    "                return False\n",
    "    return True\n",
    "\n",
    "is_prime(13)"
   ]
  },
  {
   "cell_type": "markdown",
   "metadata": {},
   "source": [
    "### Friend or Foe?\n",
    "\n",
    "Make a program that filters a list of strings and returns a list with only your friends name in it.\n",
    "\n",
    "If a name has exactly 4 letters in it, you can be sure that it has to be a friend of yours! Otherwise, you can be sure he's not...\n",
    "\n",
    "Ex: Input = [\"Ryan\", \"Kieran\", \"Jason\", \"Yous\"], Output = [\"Ryan\", \"Yous\"]\n",
    "\n",
    "Note: keep the original order of the names in the output."
   ]
  },
  {
   "cell_type": "code",
   "execution_count": 7,
   "metadata": {},
   "outputs": [
    {
     "data": {
      "text/plain": [
       "['Ryan', 'Yous', 'Chad']"
      ]
     },
     "execution_count": 7,
     "metadata": {},
     "output_type": "execute_result"
    }
   ],
   "source": [
    "def friend(x):\n",
    "    # Making an empty list to feed our results into\n",
    "    friends = []\n",
    "    \n",
    "    # Checking to see if the length of a given name/word in the list is 4 letters long\n",
    "    for i in x:\n",
    "        if len(i) == 4:\n",
    "            friends.append(i)\n",
    "    return friends\n",
    "\n",
    "friend([\"Ryan\", \"Kieran\", \"Jason\", \"Yous\", \"Tom\", \"Chad\", \"Oprah\"])"
   ]
  },
  {
   "cell_type": "markdown",
   "metadata": {},
   "source": [
    "### WeIrD StRiNg CaSe\n",
    "\n",
    "Write a function toWeirdCase (weirdcase in Ruby) that accepts a string, and returns the same string with all even indexed characters in each word upper cased, and all odd indexed characters in each word lower cased. The indexing just explained is zero based, so the zero-ith index is even, therefore that character should be upper cased.\n",
    "\n",
    "The passed in string will only consist of alphabetical characters and spaces(' '). Spaces will only be present if there are multiple words. Words will be separated by a single space(' ').\n",
    "\n",
    "Examples:\n",
    "- to_weird_case('String'); # => returns 'StRiNg'\n",
    "- to_weird_case('Weird string case') # => returns 'WeIrD StRiNg CaSe'"
   ]
  },
  {
   "cell_type": "code",
   "execution_count": 51,
   "metadata": {},
   "outputs": [
    {
     "data": {
      "text/plain": [
       "['W', 'I', 'D']"
      ]
     },
     "execution_count": 51,
     "metadata": {},
     "output_type": "execute_result"
    }
   ],
   "source": [
    "[x.upper() for i, x in enumerate(\"weird string case\".split(' ')[0]) if i % 2 == 0]"
   ]
  },
  {
   "cell_type": "code",
   "execution_count": 62,
   "metadata": {},
   "outputs": [
    {
     "name": "stdout",
     "output_type": "stream",
     "text": [
      "StRiNg\n",
      "WeIrD StRiNg CaSe\n"
     ]
    }
   ],
   "source": [
    "def to_weird_case(string):\n",
    "    \n",
    "    # First wanting to look at each word in a potentially multi-word string\n",
    "    string_list = string.split(' ')\n",
    "    \n",
    "    new_string = []\n",
    "    \n",
    "    for w in string_list:\n",
    "        \n",
    "        new_word = w[0].upper()\n",
    "\n",
    "        for i, x in enumerate(w):\n",
    "            if i == 0:\n",
    "                new_word = new_word\n",
    "            elif i % 2 == 0:\n",
    "                new_word += x.upper()\n",
    "            elif i % 2 != 0:\n",
    "                new_word += x.lower()\n",
    "        new_string.append(new_word)\n",
    "        \n",
    "    return ' '.join(new_string)\n",
    "            \n",
    "print(to_weird_case('String'))\n",
    "print(to_weird_case('Weird string case'))"
   ]
  },
  {
   "cell_type": "markdown",
   "metadata": {},
   "source": [
    "### Build Tower\n",
    "\n",
    "Build Tower by the following given argument:\n",
    "number of floors (integer and always greater than 0).\n",
    "\n",
    "Tower block is represented as *\n",
    "\n",
    "Python: return a list;\n",
    "\n",
    "Have fun!\n",
    "\n",
    "for example, a tower of 3 floors looks like below:"
   ]
  },
  {
   "cell_type": "code",
   "execution_count": 4,
   "metadata": {},
   "outputs": [],
   "source": [
    "#  *\n",
    "# ***\n",
    "#*****"
   ]
  },
  {
   "cell_type": "code",
   "execution_count": 32,
   "metadata": {},
   "outputs": [
    {
     "data": {
      "text/plain": [
       "['  *  ', ' *** ', '*****']"
      ]
     },
     "execution_count": 32,
     "metadata": {},
     "output_type": "execute_result"
    }
   ],
   "source": [
    "def tower_builder(n_floors):\n",
    "\n",
    "        # Starting by instantiating an empty list\n",
    "        floors = []\n",
    "        n = n_floors\n",
    "        for i in range(n_floors):\n",
    "            n -= 1\n",
    "            floors.append(' ' * n + '*' * (i * 2 + 1) + ' ' * n)\n",
    "\n",
    "        return floors\n",
    "    \n",
    "tower_builder(3)"
   ]
  },
  {
   "cell_type": "markdown",
   "metadata": {},
   "source": [
    "### Split Strings\n",
    "\n",
    "Complete the solution so that it splits the string into pairs of two characters. If the string contains an odd number of characters then it should replace the missing second character of the final pair with an underscore ('_').\n",
    "\n",
    "Examples:\n",
    "\n",
    "('abc') # should return –> 'ab', 'c_'\n",
    "\n",
    "('abcdef') # should return –> 'ab', 'cd', 'ef'"
   ]
  },
  {
   "cell_type": "code",
   "execution_count": 4,
   "metadata": {},
   "outputs": [
    {
     "data": {
      "text/plain": [
       "'ab'"
      ]
     },
     "execution_count": 4,
     "metadata": {},
     "output_type": "execute_result"
    }
   ],
   "source": [
    "def split_strings(string):\n",
    "    if len(string) % 2 == 0:\n",
    "        return string[0] + string[1]\n",
    "    else:\n",
    "        return string[0] + string[1]\n",
    "\n",
    "split_strings('abc')"
   ]
  },
  {
   "cell_type": "code",
   "execution_count": null,
   "metadata": {},
   "outputs": [],
   "source": []
  }
 ],
 "metadata": {
  "kernelspec": {
   "display_name": "Python 3",
   "language": "python",
   "name": "python3"
  },
  "language_info": {
   "codemirror_mode": {
    "name": "ipython",
    "version": 3
   },
   "file_extension": ".py",
   "mimetype": "text/x-python",
   "name": "python",
   "nbconvert_exporter": "python",
   "pygments_lexer": "ipython3",
   "version": "3.6.3"
  }
 },
 "nbformat": 4,
 "nbformat_minor": 2
}
