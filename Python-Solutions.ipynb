{
 "cells": [
  {
   "cell_type": "markdown",
   "metadata": {},
   "source": [
    "<h1><center> || Codewars Solutions in Python || </center></h1>"
   ]
  },
  {
   "cell_type": "markdown",
   "metadata": {},
   "source": [
    "### Parity Outlier\n",
    "You are given an array (which will have a length of at least 3, but could be very large) containing integers. The array is either entirely comprised of odd integers or entirely comprised of even integers except for a single integer N. Write a method that takes the array as an argument and returns this \"outlier\" N."
   ]
  },
  {
   "cell_type": "code",
   "execution_count": 25,
   "metadata": {},
   "outputs": [
    {
     "name": "stdout",
     "output_type": "stream",
     "text": [
      "11\n",
      "160\n"
     ]
    }
   ],
   "source": [
    "mostly_evens = [2, 4, 0, 100, 4, 11, 2602, 36]\n",
    "mostly_odds = [160, 3, 1719, 19, 11, 13, -21]\n",
    "\n",
    "def find_outlier(integers):\n",
    "    if integers[0] % 2 != integers[1] % 2:\n",
    "        return integers[0] if integers[2] % 2 == integers[1] % 2 else integers[1]\n",
    "    for i in integers:\n",
    "        if i % 2 != integers[0] % 2:\n",
    "            return i\n",
    "        \n",
    "print(find_outlier(mostly_evens))\n",
    "print(find_outlier(mostly_odds))\n",
    "\n",
    "# If the first two elements have different parity, check which element is wrong based on third \n",
    "# (if the second and the third have the same parity, the first is the wrong one, otherwise - \n",
    "# the second is the wrong one)\n",
    "# If the first two elements have the same parity, that means that parity of the \n",
    "# first (and the second) element is the correct parity for list. \n",
    "# Thus, the element with different parity is what we are looking for."
   ]
  },
  {
   "cell_type": "markdown",
   "metadata": {},
   "source": [
    "### Complimentary DNA\n",
    "\n",
    "Deoxyribonucleic acid (DNA) is a chemical found in the nucleus of cells and carries the \"instructions\" for the development and functioning of living organisms.\n",
    "\n",
    "If you want to know more http://en.wikipedia.org/wiki/DNA\n",
    "\n",
    "In DNA strings, symbols \"A\" and \"T\" are complements of each other, as \"C\" and \"G\". You have function with one side of the DNA (string, except for Haskell); you need to get the other complementary side. DNA strand is never empty or there is no DNA at all (again, except for Haskell)."
   ]
  },
  {
   "cell_type": "code",
   "execution_count": 15,
   "metadata": {},
   "outputs": [
    {
     "name": "stdout",
     "output_type": "stream",
     "text": [
      "TAACG\n",
      "CATA\n"
     ]
    }
   ],
   "source": [
    "DNA_strand1 = \"ATTGC\" # return \"TAACG\"\n",
    "DNA_strand2 = \"GTAT\" # return \"CATA\"\n",
    "\n",
    "def DNA_strand(dna):\n",
    "    \n",
    "    # Making a complimentary dictionary to map corresponding values to\n",
    "    comp_dict = {\n",
    "        'A': 'T',\n",
    "        'T': 'A',\n",
    "        'G': 'C',\n",
    "        'C': 'G'\n",
    "    }\n",
    "    \n",
    "    # Switching each value passed in to the corresponding one from the dictionary\n",
    "    return ''.join([comp_dict[x] for x in dna])\n",
    "    \n",
    "print(DNA_strand(DNA_strand1))\n",
    "print(DNA_strand(DNA_strand2))"
   ]
  },
  {
   "cell_type": "markdown",
   "metadata": {},
   "source": [
    "### Is Prime?\n",
    "\n",
    "Define a function isPrime/is_prime() that takes one integer argument and returns true/True or false/False depending on if the integer is a prime.\n",
    "\n",
    "Assumptions:\n",
    "- You can assume you will be given an integer input.\n",
    "- You can not assume that the integer will be only positive. You may be given negative numbers as well (or 0)."
   ]
  },
  {
   "cell_type": "code",
   "execution_count": 3,
   "metadata": {},
   "outputs": [
    {
     "data": {
      "text/plain": [
       "True"
      ]
     },
     "execution_count": 3,
     "metadata": {},
     "output_type": "execute_result"
    }
   ],
   "source": [
    "def is_prime(num):\n",
    "    \n",
    "    # Making sure we can make this all work with a positive or negative number\n",
    "    new = abs(int(num))\n",
    "    \n",
    "    # 0 and 1 are not prime numbers\n",
    "    if new < 2:\n",
    "        return False\n",
    "    \n",
    "    # 2 is a unique prime number\n",
    "    if new == 2:\n",
    "        return True\n",
    "    \n",
    "    if not new & 1: \n",
    "        return False\n",
    "    \n",
    "    for x in range(3, int(new**0.5) + 1, 2):\n",
    "            if new % x == 0:\n",
    "                return False\n",
    "    return True\n",
    "\n",
    "is_prime(13)"
   ]
  },
  {
   "cell_type": "markdown",
   "metadata": {},
   "source": [
    "### Friend or Foe?\n",
    "\n",
    "Make a program that filters a list of strings and returns a list with only your friends name in it.\n",
    "\n",
    "If a name has exactly 4 letters in it, you can be sure that it has to be a friend of yours! Otherwise, you can be sure he's not...\n",
    "\n",
    "Ex: Input = [\"Ryan\", \"Kieran\", \"Jason\", \"Yous\"], Output = [\"Ryan\", \"Yous\"]\n",
    "\n",
    "Note: keep the original order of the names in the output."
   ]
  },
  {
   "cell_type": "code",
   "execution_count": 7,
   "metadata": {},
   "outputs": [
    {
     "data": {
      "text/plain": [
       "['Ryan', 'Yous', 'Chad']"
      ]
     },
     "execution_count": 7,
     "metadata": {},
     "output_type": "execute_result"
    }
   ],
   "source": [
    "def friend(x):\n",
    "    # Making an empty list to feed our results into\n",
    "    friends = []\n",
    "    \n",
    "    # Checking to see if the length of a given name/word in the list is 4 letters long\n",
    "    for i in x:\n",
    "        if len(i) == 4:\n",
    "            friends.append(i)\n",
    "    return friends\n",
    "\n",
    "friend([\"Ryan\", \"Kieran\", \"Jason\", \"Yous\", \"Tom\", \"Chad\", \"Oprah\"])"
   ]
  },
  {
   "cell_type": "markdown",
   "metadata": {},
   "source": [
    "### WeIrD StRiNg CaSe\n",
    "\n",
    "Write a function toWeirdCase (weirdcase in Ruby) that accepts a string, and returns the same string with all even indexed characters in each word upper cased, and all odd indexed characters in each word lower cased. The indexing just explained is zero based, so the zero-ith index is even, therefore that character should be upper cased.\n",
    "\n",
    "The passed in string will only consist of alphabetical characters and spaces(' '). Spaces will only be present if there are multiple words. Words will be separated by a single space(' ').\n",
    "\n",
    "Examples:\n",
    "- to_weird_case('String'); # => returns 'StRiNg'\n",
    "- to_weird_case('Weird string case') # => returns 'WeIrD StRiNg CaSe'"
   ]
  },
  {
   "cell_type": "code",
   "execution_count": 51,
   "metadata": {},
   "outputs": [
    {
     "data": {
      "text/plain": [
       "['W', 'I', 'D']"
      ]
     },
     "execution_count": 51,
     "metadata": {},
     "output_type": "execute_result"
    }
   ],
   "source": [
    "[x.upper() for i, x in enumerate(\"weird string case\".split(' ')[0]) if i % 2 == 0]"
   ]
  },
  {
   "cell_type": "code",
   "execution_count": 62,
   "metadata": {},
   "outputs": [
    {
     "name": "stdout",
     "output_type": "stream",
     "text": [
      "StRiNg\n",
      "WeIrD StRiNg CaSe\n"
     ]
    }
   ],
   "source": [
    "def to_weird_case(string):\n",
    "    \n",
    "    # First wanting to look at each word in a potentially multi-word string\n",
    "    string_list = string.split(' ')\n",
    "    \n",
    "    new_string = []\n",
    "    \n",
    "    for w in string_list:\n",
    "        \n",
    "        new_word = w[0].upper()\n",
    "\n",
    "        for i, x in enumerate(w):\n",
    "            if i == 0:\n",
    "                new_word = new_word\n",
    "            elif i % 2 == 0:\n",
    "                new_word += x.upper()\n",
    "            elif i % 2 != 0:\n",
    "                new_word += x.lower()\n",
    "        new_string.append(new_word)\n",
    "        \n",
    "    return ' '.join(new_string)\n",
    "            \n",
    "print(to_weird_case('String'))\n",
    "print(to_weird_case('Weird string case'))"
   ]
  },
  {
   "cell_type": "markdown",
   "metadata": {},
   "source": [
    "### Build Tower\n",
    "\n",
    "Build Tower by the following given argument:\n",
    "number of floors (integer and always greater than 0).\n",
    "\n",
    "Tower block is represented as *\n",
    "\n",
    "Python: return a list;\n",
    "\n",
    "Have fun!\n",
    "\n",
    "for example, a tower of 3 floors looks like below:"
   ]
  },
  {
   "cell_type": "code",
   "execution_count": 4,
   "metadata": {},
   "outputs": [],
   "source": [
    "#  *\n",
    "# ***\n",
    "#*****"
   ]
  },
  {
   "cell_type": "code",
   "execution_count": 32,
   "metadata": {},
   "outputs": [
    {
     "data": {
      "text/plain": [
       "['  *  ', ' *** ', '*****']"
      ]
     },
     "execution_count": 32,
     "metadata": {},
     "output_type": "execute_result"
    }
   ],
   "source": [
    "def tower_builder(n_floors):\n",
    "\n",
    "        # Starting by instantiating an empty list\n",
    "        floors = []\n",
    "        n = n_floors\n",
    "        for i in range(n_floors):\n",
    "            n -= 1\n",
    "            floors.append(' ' * n + '*' * (i * 2 + 1) + ' ' * n)\n",
    "\n",
    "        return floors\n",
    "    \n",
    "tower_builder(3)"
   ]
  },
  {
   "cell_type": "markdown",
   "metadata": {},
   "source": [
    "### Split Strings\n",
    "\n",
    "Complete the solution so that it splits the string into pairs of two characters. If the string contains an odd number of characters then it should replace the missing second character of the final pair with an underscore ('_').\n",
    "\n",
    "Examples:\n",
    "\n",
    "('abc') # should return –> 'ab', 'c_'\n",
    "\n",
    "('abcdef') # should return –> 'ab', 'cd', 'ef'"
   ]
  },
  {
   "cell_type": "code",
   "execution_count": 21,
   "metadata": {},
   "outputs": [
    {
     "name": "stdout",
     "output_type": "stream",
     "text": [
      "['ab', 'c_']\n",
      "['ab', 'cd', 'ef']\n"
     ]
    }
   ],
   "source": [
    "def split_strings(string):\n",
    "    \n",
    "    n = 2\n",
    "    new = [string[i:i+n] for i in range(0, len(string), n)]\n",
    "    for x in new:\n",
    "        if len(x) < 2:\n",
    "            new.remove(x)\n",
    "            new.append(x + '_')\n",
    "            return new\n",
    "    else:\n",
    "        return new\n",
    "    \n",
    "\n",
    "print(split_strings('abc'))\n",
    "print(split_strings('abcdef'))"
   ]
  },
  {
   "cell_type": "markdown",
   "metadata": {},
   "source": [
    "### Persistent Bugger.\n",
    "\n",
    "Write a function, persistence, that takes in a positive parameter num and returns its multiplicative persistence, which is the number of times you must multiply the digits in num until you reach a single digit.\n",
    "\n",
    "For example:\n",
    "\n",
    " persistence(39) => 3   Because 3x9 = 27, 2x7 = 14, 1x4=4\n",
    "                        and 4 has only one digit.\n",
    "\n",
    " persistence(999) => 4  Because 9x9x9 = 729, 7x2x9 = 126,\n",
    "                        1x2x6 = 12, and finally 1x2 = 2.\n",
    "\n",
    " persistence(4) => 0    Because 4 is already a one-digit number."
   ]
  },
  {
   "cell_type": "code",
   "execution_count": 33,
   "metadata": {},
   "outputs": [],
   "source": [
    "# Still working!"
   ]
  },
  {
   "cell_type": "code",
   "execution_count": 32,
   "metadata": {},
   "outputs": [
    {
     "data": {
      "text/plain": [
       "0"
      ]
     },
     "execution_count": 32,
     "metadata": {},
     "output_type": "execute_result"
    }
   ],
   "source": [
    "def persistence(n):\n",
    "    new = [int(d) for d in str(n)]\n",
    "    counter = 0\n",
    "    if len(new) == 1:\n",
    "        counter += 0\n",
    "    else:\n",
    "        for i, x in enumerate(new):\n",
    "            new[0] * new[1]\n",
    "    return counter\n",
    "persistence(4)"
   ]
  },
  {
   "cell_type": "markdown",
   "metadata": {},
   "source": [
    "### Highest Scoring Word\n",
    "\n",
    "Given a string of words, you need to find the highest scoring word.\n",
    "\n",
    "Each letter of a word scores points according to it's position in the alphabet: a = 1, b = 2, c = 3 etc.\n",
    "\n",
    "You need to return the highest scoring word as a string.\n",
    "\n",
    "If two words score the same, return the word that appears earliest in the original string.\n",
    "\n",
    "All letters will be lowercase and all inputs will be valid.\n",
    "\n",
    "`test.assert_equals(high('man i need a taxi up to ubud'), 'taxi')`\n",
    "\n",
    "`test.assert_equals(high('what time are we climbing up the volcano'), 'volcano')`\n",
    "\n",
    "`test.assert_equals(high('take me to semynak'), 'semynak')`"
   ]
  },
  {
   "cell_type": "code",
   "execution_count": 5,
   "metadata": {},
   "outputs": [
    {
     "name": "stdout",
     "output_type": "stream",
     "text": [
      "Scoring dictionary: {'a': 1, 'b': 2, 'c': 3, 'd': 4, 'e': 5, 'f': 6, 'g': 7, 'h': 8, 'i': 9, 'j': 10, 'k': 11, 'l': 12, 'm': 13, 'n': 14, 'o': 15, 'p': 16, 'q': 17, 'r': 18, 's': 19, 't': 20, 'u': 21, 'v': 22, 'w': 23, 'x': 24, 'y': 25, 'z': 26}\n",
      "Word score for \"this\" is: 56\n",
      "Winner in \"I repeat this is not a test\" is: repeat\n",
      "Winner in \"what time are we going up to the volcano\" is: volcano\n",
      "Winner in \"man i need a taxi up to ubud\" is: taxi\n"
     ]
    }
   ],
   "source": [
    "# Creating the scoring dictionary for all of the letters:\n",
    "\n",
    "letters = ['a', 'b', 'c', 'd', 'e', 'f', 'g', 'h', 'i', 'j', 'k', 'l', 'm', 'n', 'o', 'p', 'q', 'r', 's',\n",
    "           't', 'u', 'v', 'w', 'x', 'y', 'z']\n",
    "letter_values = [i + 1 for i, x in enumerate(letters)]\n",
    "scoring_dictionary = dict(zip(letters, letter_values))\n",
    "print('Scoring dictionary:', scoring_dictionary)\n",
    "\n",
    "# Creating a function that scores individual words:\n",
    "\n",
    "def scorer(word):\n",
    "    letters = []\n",
    "    for letter in word:\n",
    "        letters.append(letter)\n",
    "    score = []\n",
    "    for ind in letters:\n",
    "        ind = scoring_dictionary[ind]\n",
    "        score.append(ind)\n",
    "    return sum(score)\n",
    "print('Word score for \"this\" is:', scorer('this'))\n",
    "\n",
    "# Now a function that will take in a full sentence / string / etc and return the highest scoring word:\n",
    "\n",
    "def highest_scoring_word(string):\n",
    "    new_string = [x.lower() for x in string.split(' ')]\n",
    "    scores = []\n",
    "    for word in new_string:\n",
    "        word_score = scorer(word)\n",
    "        scores.append(word_score)\n",
    "    \n",
    "    highest_score = max(scores)\n",
    "    word_position = scores.index(highest_score)\n",
    "    return new_string[word_position]\n",
    "\n",
    "# Checking to make sure that what we have is working fine:\n",
    "\n",
    "print('Winner in \"I repeat this is not a test\" is:', highest_scoring_word(\"I repeat this is not a test\"))\n",
    "print('Winner in \"what time are we going up to the volcano\" is:', highest_scoring_word(\"what time are we going up to the volcano\"))\n",
    "print('Winner in \"man i need a taxi up to ubud\" is:', highest_scoring_word(\"man i need a taxi up to ubud\"))"
   ]
  },
  {
   "cell_type": "markdown",
   "metadata": {},
   "source": [
    "## Find the unique number\n",
    "There is an array with some numbers. All numbers are equal except for one. Try to find it!\n",
    "\n",
    "- findUniq( 1, 1, 1, 2, 1, 1 ) === 2\n",
    "- findUniq( 0, 0, 0.55, 0, 0 ) === 0.55\n",
    "It’s guaranteed that array contains more than 3 numbers.\n",
    "\n",
    "The tests contain some very huge arrays, so think about performance."
   ]
  },
  {
   "cell_type": "code",
   "execution_count": 9,
   "metadata": {},
   "outputs": [
    {
     "name": "stdout",
     "output_type": "stream",
     "text": [
      "2\n",
      "0.55\n"
     ]
    }
   ],
   "source": [
    "def find_uniq(arr):\n",
    "    # Making into an iterable set since the set must only contain unique values\n",
    "    a, b = set(arr)\n",
    "    return a if arr.count(a) == 1 else b\n",
    "\n",
    "print(find_uniq([1,1,1,2,1,1]))\n",
    "print(find_uniq([0,0,0.55,0,0]))"
   ]
  },
  {
   "cell_type": "markdown",
   "metadata": {},
   "source": [
    "# Maximum subarray sum\n",
    "\n",
    "The maximum sum subarray problem consists in finding the maximum sum of a contiguous subsequence in an array or list of integers:\n",
    "\n",
    "    maxSequence([-2, 1, -3, 4, -1, 2, 1, -5, 4])\n",
    "    should be 6: [4, -1, 2, 1]\n",
    "    \n",
    "Easy case is when the list is made up of only positive numbers and the maximum sum is the sum of the whole array. If the list is made up of only negative numbers, return 0 instead.\n",
    "\n",
    "Empty list is considered to have zero greatest sum. Note that the empty list or array is also a valid sublist/subarray."
   ]
  },
  {
   "cell_type": "code",
   "execution_count": 46,
   "metadata": {},
   "outputs": [],
   "source": [
    "def maxSequence(arr):\n",
    "    maximum = 0\n",
    "    local_maximum = 0\n",
    "    for i in arr:\n",
    "        if local_maximum > 0:\n",
    "            local_maximum += i\n",
    "            if local_maximum < 0:\n",
    "                local_maximum = 0\n",
    "            elif local_maximum > maximum:\n",
    "                maximum = local_maximum\n",
    "        elif i > 0:\n",
    "            local_maximum += i\n",
    "\n",
    "    return maximum"
   ]
  },
  {
   "cell_type": "code",
   "execution_count": 47,
   "metadata": {
    "scrolled": true
   },
   "outputs": [
    {
     "data": {
      "text/plain": [
       "6"
      ]
     },
     "execution_count": 47,
     "metadata": {},
     "output_type": "execute_result"
    }
   ],
   "source": [
    "maxSequence([-2, 1, -3, 4, -1, 2, 1, -5, 4])"
   ]
  },
  {
   "cell_type": "code",
   "execution_count": 49,
   "metadata": {},
   "outputs": [
    {
     "data": {
      "text/plain": [
       "0"
      ]
     },
     "execution_count": 49,
     "metadata": {},
     "output_type": "execute_result"
    }
   ],
   "source": [
    "maxSequence([-1,-2,-3])"
   ]
  },
  {
   "cell_type": "code",
   "execution_count": 51,
   "metadata": {},
   "outputs": [],
   "source": [
    "### BEST SOLUTION I SAW ON CODEWARS: ###\n",
    "\n",
    "def maxSequence(arr):\n",
    "    max,curr=0,0\n",
    "    for x in arr:\n",
    "        curr+=x\n",
    "        if curr<0:curr=0\n",
    "        if curr>max:max=curr\n",
    "    return max"
   ]
  },
  {
   "cell_type": "code",
   "execution_count": 52,
   "metadata": {},
   "outputs": [
    {
     "data": {
      "text/plain": [
       "6"
      ]
     },
     "execution_count": 52,
     "metadata": {},
     "output_type": "execute_result"
    }
   ],
   "source": [
    "maxSequence(fourth_list)"
   ]
  },
  {
   "cell_type": "markdown",
   "metadata": {},
   "source": [
    "# Array.diff\n",
    "\n",
    "Your goal in this kata is to implement a difference function, which subtracts one list from another and returns the result.\n",
    "\n",
    "It should remove all values from `list a`, which are present in `list b`.\n",
    "\n",
    "    array_diff([1,2],[1]) == [2]\n",
    "\n",
    "If a value is present in `b`, all of its occurrences must be removed from the other:\n",
    "\n",
    "    array_diff([1,2,2,2,3],[2]) == [1,3]\n",
    "    array_diff([1,2,2], [1]) == [2,2]"
   ]
  },
  {
   "cell_type": "code",
   "execution_count": 69,
   "metadata": {},
   "outputs": [],
   "source": [
    "def array_diff(a, b):\n",
    "    return [x for x in a if x not in b]"
   ]
  },
  {
   "cell_type": "code",
   "execution_count": 72,
   "metadata": {},
   "outputs": [
    {
     "data": {
      "text/plain": [
       "[1, 3]"
      ]
     },
     "execution_count": 72,
     "metadata": {},
     "output_type": "execute_result"
    }
   ],
   "source": [
    "array_diff([1,2,2,2,3],[2])"
   ]
  }
 ],
 "metadata": {
  "kernelspec": {
   "display_name": "Python 3",
   "language": "python",
   "name": "python3"
  },
  "language_info": {
   "codemirror_mode": {
    "name": "ipython",
    "version": 3
   },
   "file_extension": ".py",
   "mimetype": "text/x-python",
   "name": "python",
   "nbconvert_exporter": "python",
   "pygments_lexer": "ipython3",
   "version": "3.6.3"
  }
 },
 "nbformat": 4,
 "nbformat_minor": 2
}
